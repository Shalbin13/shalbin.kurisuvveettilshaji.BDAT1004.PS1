{
 "cells": [
  {
   "cell_type": "markdown",
   "id": "8af12cf7-d790-4e4a-bcb3-2fb4b39a40cf",
   "metadata": {},
   "source": [
    "Question 1\n",
    "\n",
    "What data type is each of the following ?\n",
    "5\n",
    "5.0\n",
    "5 > 1\n",
    "'5'\n",
    "5 * 2\n",
    "'5' * 2\n",
    "'5' + '2'\n",
    "5 / 2\n",
    "5 % 2\n",
    "{5, 2, 1}\n",
    "5 == 3\n",
    "Pi (the number)\n"
   ]
  },
  {
   "cell_type": "code",
   "execution_count": 1,
   "id": "f4278350",
   "metadata": {},
   "outputs": [
    {
     "name": "stdout",
     "output_type": "stream",
     "text": [
      "System.Int32\r\n"
     ]
    }
   ],
   "source": [
    "var x = 5;\n",
    "Console.WriteLine(x.GetType());"
   ]
  },
  {
   "cell_type": "code",
   "execution_count": 2,
   "id": "7ef4be8a",
   "metadata": {},
   "outputs": [
    {
     "name": "stdout",
     "output_type": "stream",
     "text": [
      "System.Double\r\n"
     ]
    }
   ],
   "source": [
    "var x = 5.0;\n",
    "Console.WriteLine(x.GetType());"
   ]
  },
  {
   "cell_type": "code",
   "execution_count": 3,
   "id": "ee0b1089",
   "metadata": {},
   "outputs": [
    {
     "name": "stdout",
     "output_type": "stream",
     "text": [
      "System.Boolean\r\n"
     ]
    }
   ],
   "source": [
    "var x = 5>1;\n",
    "Console.WriteLine(x.GetType());"
   ]
  },
  {
   "cell_type": "code",
   "execution_count": 4,
   "id": "fa802498",
   "metadata": {},
   "outputs": [
    {
     "name": "stdout",
     "output_type": "stream",
     "text": [
      "System.Char\r\n"
     ]
    }
   ],
   "source": [
    "var x = '5';\n",
    "Console.WriteLine(x.GetType());"
   ]
  },
  {
   "cell_type": "code",
   "execution_count": 5,
   "id": "f061a457",
   "metadata": {},
   "outputs": [
    {
     "name": "stdout",
     "output_type": "stream",
     "text": [
      "System.Int32\r\n"
     ]
    }
   ],
   "source": [
    "var x = 5*2;\n",
    "Console.WriteLine(x.GetType());"
   ]
  },
  {
   "cell_type": "code",
   "execution_count": 6,
   "id": "80664614",
   "metadata": {},
   "outputs": [
    {
     "name": "stdout",
     "output_type": "stream",
     "text": [
      "System.Int32\r\n"
     ]
    }
   ],
   "source": [
    "var x = '5' * 2;\n",
    "Console.WriteLine(x.GetType());"
   ]
  },
  {
   "cell_type": "code",
   "execution_count": 7,
   "id": "72835698",
   "metadata": {},
   "outputs": [
    {
     "name": "stdout",
     "output_type": "stream",
     "text": [
      "System.Int32\r\n"
     ]
    }
   ],
   "source": [
    "var x = '5' + '2';\n",
    "Console.WriteLine(x.GetType());"
   ]
  },
  {
   "cell_type": "code",
   "execution_count": 8,
   "id": "e6cfa3a3",
   "metadata": {},
   "outputs": [
    {
     "name": "stdout",
     "output_type": "stream",
     "text": [
      "System.Int32\r\n"
     ]
    }
   ],
   "source": [
    "var x = 5 / 2;\n",
    "Console.WriteLine(x.GetType());"
   ]
  },
  {
   "cell_type": "code",
   "execution_count": 9,
   "id": "1a08f7af",
   "metadata": {},
   "outputs": [
    {
     "name": "stdout",
     "output_type": "stream",
     "text": [
      "System.Int32\r\n"
     ]
    }
   ],
   "source": [
    "var x = 5 % 2;\n",
    "Console.WriteLine(x.GetType());"
   ]
  },
  {
   "cell_type": "code",
   "execution_count": 10,
   "id": "be111822",
   "metadata": {},
   "outputs": [
    {
     "ename": "Unhandled Exception",
     "evalue": "(1,19): error CS1026: ) expected\r\n(1,19): error CS1002: ; expected\r\n(1,21): error CS1002: ; expected\r\n(1,21): error CS1513: } expected\r\n(1,24): error CS1002: ; expected\r\n(1,24): error CS1513: } expected\r\n(1,27): error CS1002: ; expected\r\n(1,28): error CS7017: Member definition, statement, or end-of-file expected\r\n(1,38): error CS1002: ; expected\r\n(1,38): error CS7017: Member definition, statement, or end-of-file expected",
     "output_type": "error",
     "traceback": [
      "(1,19): error CS1026: ) expected\r\n(1,19): error CS1002: ; expected\r\n(1,21): error CS1002: ; expected\r\n(1,21): error CS1513: } expected\r\n(1,24): error CS1002: ; expected\r\n(1,24): error CS1513: } expected\r\n(1,27): error CS1002: ; expected\r\n(1,28): error CS7017: Member definition, statement, or end-of-file expected\r\n(1,38): error CS1002: ; expected\r\n(1,38): error CS7017: Member definition, statement, or end-of-file expected"
     ]
    }
   ],
   "source": [
    "Console.WriteLine({5, 2, 1}.GetType());"
   ]
  },
  {
   "cell_type": "code",
   "execution_count": 11,
   "id": "f73c44fb",
   "metadata": {},
   "outputs": [
    {
     "name": "stdout",
     "output_type": "stream",
     "text": [
      "System.Boolean\r\n"
     ]
    }
   ],
   "source": [
    "var x = 5 == 3;\n",
    "Console.WriteLine(x.GetType());\n"
   ]
  },
  {
   "cell_type": "code",
   "execution_count": 12,
   "id": "e9147b97",
   "metadata": {},
   "outputs": [
    {
     "name": "stdout",
     "output_type": "stream",
     "text": [
      "System.Double\r\n"
     ]
    }
   ],
   "source": [
    "Console.WriteLine(Math.PI.GetType());"
   ]
  },
  {
   "cell_type": "markdown",
   "id": "b17b3dce",
   "metadata": {},
   "source": [
    "Question 2\n",
    "\n",
    "Write (and evaluate) C# expressions that answer these questions:\n",
    "a. How many letters are there in 'Supercalifragilisticexpialidocious'?"
   ]
  },
  {
   "cell_type": "code",
   "execution_count": 13,
   "id": "e0a33724",
   "metadata": {},
   "outputs": [
    {
     "name": "stdout",
     "output_type": "stream",
     "text": [
      "34\r\n"
     ]
    }
   ],
   "source": [
    "string str = \"Supercalifragilisticexpialidocious\";\n",
    "Console.WriteLine(str.Length);"
   ]
  },
  {
   "cell_type": "markdown",
   "id": "056a391f",
   "metadata": {},
   "source": [
    "b. Does 'Supercalifragilisticexpialidocious' contain 'ice' as a substring? "
   ]
  },
  {
   "cell_type": "code",
   "execution_count": 14,
   "id": "96ff9eb3",
   "metadata": {},
   "outputs": [
    {
     "name": "stdout",
     "output_type": "stream",
     "text": [
      "True\r\n"
     ]
    }
   ],
   "source": [
    "string str = \"Supercalifragilisticexpialidocious\";\n",
    "Console.WriteLine(str.Contains(\"ice\"));"
   ]
  },
  {
   "cell_type": "markdown",
   "id": "42455842",
   "metadata": {},
   "source": [
    "Which of the following words is the longest:\n",
    "Supercalifragilisticexpialidocious, Honorificabilitudinitatibus, or\n",
    "Bababadalgharaghtakamminarronnkonn? "
   ]
  },
  {
   "cell_type": "code",
   "execution_count": 15,
   "id": "d24ce57e",
   "metadata": {},
   "outputs": [
    {
     "name": "stdout",
     "output_type": "stream",
     "text": [
      "Longest Word is orBababadalgharaghtakamminarronnkonn\r\n"
     ]
    }
   ],
   "source": [
    "string[] str1;\n",
    "str1 = new string[]{\"Supercalifragilisticexpialidocious\", \"Honorificabilitudinitatibus\", \"orBababadalgharaghtakamminarronnkonn\"};\n",
    "string longWord = \"\";\n",
    "foreach (string str in str1)\n",
    "{\n",
    "    if(str.Length > longWord.Length)\n",
    "        {\n",
    "            longWord = str;\n",
    "        }\n",
    "}\n",
    "Console.WriteLine(\"Longest Word is \"+longWord);"
   ]
  },
  {
   "cell_type": "markdown",
   "id": "2f531237",
   "metadata": {},
   "source": [
    "Which composer comes first in the dictionary: 'Berlioz', 'Borodin', 'Brian',\n",
    "'Bartok', 'Bellini', 'Buxtehude', 'Bernstein'. Which one comes last?"
   ]
  },
  {
   "cell_type": "code",
   "execution_count": 16,
   "id": "78591065",
   "metadata": {},
   "outputs": [
    {
     "name": "stdout",
     "output_type": "stream",
     "text": [
      "First composer is Bartok\n",
      "Last composer is Buxtehude\n"
     ]
    }
   ],
   "source": [
    "string[] str1;\n",
    "str1 = new string[]{\"Berlioz\", \"Borodin\", \"Brian\",\"Bartok\", \"Bellini\", \"Buxtehude\", \"Bernstein\"};\n",
    "Array.Sort(str1);\n",
    "Console.WriteLine(\"First composer is \"+str1[0]);\n",
    "Console.WriteLine(\"Last composer is \"+str1[str1.Length-1]);"
   ]
  },
  {
   "cell_type": "code",
   "execution_count": 17,
   "id": "498631e2",
   "metadata": {},
   "outputs": [
    {
     "ename": "Unhandled Exception",
     "evalue": "(1,10): error CS1002: ; expected\r\n(1,12): error CS1002: ; expected\r\n(1,13): error CS1040: Preprocessor directives must appear as the first non-whitespace character on a line\r\n(3,11): error CS1002: ; expected\r\n(3,34): error CS1001: Identifier expected\r\n(3,36): error CS1001: Identifier expected\r\n(3,38): error CS1001: Identifier expected\r\n(3,40): error CS1002: ; expected\r\n(3,51): error CS1002: ; expected\r\n(3,51): error CS1525: Invalid expression term 'as'\r\n(3,60): error CS1002: ; expected\r\n(3,72): error CS1002: ; expected\r\n(3,79): error CS1002: ; expected\r\n(3,80): error CS1002: ; expected\r\n(4,10): error CS1002: ; expected\r\n(4,21): error CS1002: ; expected\r\n(4,33): error CS1002: ; expected\r\n(4,42): error CS1002: ; expected\r\n(4,49): error CS1002: ; expected\r\n(4,67): error CS1002: ; expected\r\n(4,67): error CS1010: Newline in constant\r\n(4,67): error CS1012: Too many characters in character literal\r\n(4,87): error CS1002: ; expected\r\n(5,6): error CS1002: ; expected\r\n(5,20): error CS1002: ; expected\r\n(5,33): error CS1002: ; expected\r\n(5,34): error CS1002: ; expected\r\n(5,34): error CS7017: Member definition, statement, or end-of-file expected\r\n(5,37): error CS1002: ; expected\r\n(5,37): error CS7017: Member definition, statement, or end-of-file expected\r\n(5,45): error CS1002: ; expected\r\n(5,45): error CS1525: Invalid expression term 'is'\r\n(6,9): error CS1002: ; expected\r\n(6,21): error CS1002: ; expected\r\n(7,1): error CS7017: Member definition, statement, or end-of-file expected\r\n(8,15): error CS1001: Identifier expected\r\n(8,15): error CS1002: ; expected",
     "output_type": "error",
     "traceback": [
      "(1,10): error CS1002: ; expected\r\n(1,12): error CS1002: ; expected\r\n(1,13): error CS1040: Preprocessor directives must appear as the first non-whitespace character on a line\r\n(3,11): error CS1002: ; expected\r\n(3,34): error CS1001: Identifier expected\r\n(3,36): error CS1001: Identifier expected\r\n(3,38): error CS1001: Identifier expected\r\n(3,40): error CS1002: ; expected\r\n(3,51): error CS1002: ; expected\r\n(3,51): error CS1525: Invalid expression term 'as'\r\n(3,60): error CS1002: ; expected\r\n(3,72): error CS1002: ; expected\r\n(3,79): error CS1002: ; expected\r\n(3,80): error CS1002: ; expected\r\n(4,10): error CS1002: ; expected\r\n(4,21): error CS1002: ; expected\r\n(4,33): error CS1002: ; expected\r\n(4,42): error CS1002: ; expected\r\n(4,49): error CS1002: ; expected\r\n(4,67): error CS1002: ; expected\r\n(4,67): error CS1010: Newline in constant\r\n(4,67): error CS1012: Too many characters in character literal\r\n(4,87): error CS1002: ; expected\r\n(5,6): error CS1002: ; expected\r\n(5,20): error CS1002: ; expected\r\n(5,33): error CS1002: ; expected\r\n(5,34): error CS1002: ; expected\r\n(5,34): error CS7017: Member definition, statement, or end-of-file expected\r\n(5,37): error CS1002: ; expected\r\n(5,37): error CS7017: Member definition, statement, or end-of-file expected\r\n(5,45): error CS1002: ; expected\r\n(5,45): error CS1525: Invalid expression term 'is'\r\n(6,9): error CS1002: ; expected\r\n(6,21): error CS1002: ; expected\r\n(7,1): error CS7017: Member definition, statement, or end-of-file expected\r\n(8,15): error CS1001: Identifier expected\r\n(8,15): error CS1002: ; expected"
     ]
    }
   ],
   "source": [
    "Question 3 C#\n",
    "\n",
    "Implement function triangleArea(a,b,c) that takes as input the lengths of the 3\n",
    "sides of a triangle and returns the area of the triangle. By Heron's formula, the area\n",
    "of a triangle with side lengths a, b, and c is\n",
    "s(s - a)(s -b)(s -c)\n",
    ", where\n",
    "s = (a+b+c)/2."
   ]
  },
  {
   "cell_type": "code",
   "execution_count": 18,
   "id": "e40efde2",
   "metadata": {},
   "outputs": [
    {
     "data": {
      "text/plain": [
       "1.7320508075688772"
      ]
     },
     "execution_count": 18,
     "metadata": {},
     "output_type": "execute_result"
    }
   ],
   "source": [
    "public double triangleArea(double a,double b,double c)\n",
    "{\n",
    "    double res=0.0;\n",
    "    double s = ((a+b+c)/2);\n",
    "    return Math.Sqrt(s*(s-a)*(s-b)*(s-c));\n",
    "}\n",
    "triangleArea(2,2,2)"
   ]
  },
  {
   "cell_type": "markdown",
   "id": "291879bf",
   "metadata": {},
   "source": [
    "Write a program in C# Sharp to separate odd and even integers in separate arrays.\n",
    "Go to the editor\n",
    "Test Data :\n",
    "Input the number of elements to be stored in the array :5\n",
    "Input 5 elements in the array :\n",
    "element - 0 : 25\n",
    "element - 1 : 47\n",
    "element - 2 : 42\n",
    "element - 3 : 56\n",
    "element - 4 : 32\n",
    "Expected Output:\n",
    "The Even elements are:\n",
    "42 56 32\n",
    "The Odd elements are :\n",
    "25 47"
   ]
  },
  {
   "cell_type": "code",
   "execution_count": null,
   "id": "c6f37fd2",
   "metadata": {},
   "outputs": [],
   "source": [
    "int[] numbers = new int[]{25,47,42,56,32};\n",
    "Console.Write(\"asdasd\");\n",
    "int p = Console.Read();\n",
    "int[] even = new int[numbers.Length];\n",
    "int[] odd = new int[numbers.Length];\n",
    "int evenCount = 0;\n",
    "int oddCount = 0;\n",
    "foreach (int i in numbers)\n",
    "{\n",
    "    if (i % 2 == 0)\n",
    "    {\n",
    "        even[evenCount] = i;\n",
    "        evenCount++;\n",
    "    }\n",
    "    else\n",
    "    {\n",
    "        odd[oddCount] = i;\n",
    "        oddCount++;\n",
    "    }\n",
    "}\n",
    "Console.WriteLine(\"Even Numbers:\");\n",
    "for (int i = 0; i < evenCount; i++)\n",
    "    {\n",
    "        Console.WriteLine(even[i]);\n",
    "    }\n",
    "Console.WriteLine(\"\\nOdd Numbers:\");\n",
    "for (int i = 0; i < oddCount; i++)\n",
    "    {\n",
    "        Console.WriteLine(odd[i]);\n",
    "    }\n"
   ]
  },
  {
   "cell_type": "markdown",
   "id": "7c8c6456",
   "metadata": {},
   "source": [
    "Write a function inside(x,y,x1,y1,x2,y2) that returns True or False\n",
    "depending on whether the point (x,y) lies in the rectangle with lower left\n",
    "corner (x1,y1) and upper right corner (x2,y2)."
   ]
  },
  {
   "cell_type": "code",
   "execution_count": 21,
   "id": "c2b9e9ad",
   "metadata": {},
   "outputs": [
    {
     "name": "stdout",
     "output_type": "stream",
     "text": [
      "True\n",
      "False\n"
     ]
    }
   ],
   "source": [
    "public Boolean inside(double x,double y, double x1, double y1, double x2, double y2)\n",
    "{\n",
    "    if((x > x1 && x < x2) && (y > y1 && y < y2))\n",
    "        return true;\n",
    "    return false;\n",
    "}\n",
    "Console.WriteLine(inside(1,1,0,0,2,3));\n",
    "Console.WriteLine(inside(-1,-1,0,0,2,3));\n"
   ]
  },
  {
   "cell_type": "code",
   "execution_count": 22,
   "id": "9b11b781",
   "metadata": {},
   "outputs": [
    {
     "name": "stdout",
     "output_type": "stream",
     "text": [
      "False\n",
      "True\n"
     ]
    }
   ],
   "source": [
    "Console.WriteLine(inside(1,1,0.3,0.5,1.1,0.7));\n",
    "Console.WriteLine(inside(1,1,0.5,0.2,1.1,2.0));"
   ]
  },
  {
   "cell_type": "code",
   "execution_count": null,
   "id": "5d182ccc",
   "metadata": {},
   "outputs": [],
   "source": []
  },
  {
   "cell_type": "code",
   "execution_count": null,
   "id": "ac36cc9f",
   "metadata": {},
   "outputs": [],
   "source": []
  }
 ],
 "metadata": {
  "kernelspec": {
   "display_name": ".NET (C#)",
   "language": "C#",
   "name": ".net-csharp"
  },
  "language_info": {
   "file_extension": ".cs",
   "mimetype": "text/x-csharp",
   "name": "C#",
   "pygments_lexer": "csharp",
   "version": "8.0"
  }
 },
 "nbformat": 4,
 "nbformat_minor": 5
}
