{
 "cells": [
  {
   "cell_type": "markdown",
   "id": "8af12cf7-d790-4e4a-bcb3-2fb4b39a40cf",
   "metadata": {},
   "source": [
    "Question 1\n",
    "\n",
    "What data type is each of the following ?\n",
    "5\n",
    "5.0\n",
    "5 > 1\n",
    "'5'\n",
    "5 * 2\n",
    "'5' * 2\n",
    "'5' + '2'\n",
    "5 / 2\n",
    "5 % 2\n",
    "{5, 2, 1}\n",
    "5 == 3\n",
    "Pi (the number)\n"
   ]
  },
  {
   "cell_type": "code",
   "execution_count": 1,
   "id": "d6c6b40b",
   "metadata": {},
   "outputs": [
    {
     "name": "stdout",
     "output_type": "stream",
     "text": [
      "System.Int32\r\n"
     ]
    }
   ],
   "source": [
    "var x = 5;\n",
    "Console.WriteLine(x.GetType());"
   ]
  },
  {
   "cell_type": "code",
   "execution_count": 2,
   "id": "7ef4be8a",
   "metadata": {},
   "outputs": [
    {
     "name": "stdout",
     "output_type": "stream",
     "text": [
      "System.Double\r\n"
     ]
    }
   ],
   "source": [
    "var x = 5.0;\n",
    "Console.WriteLine(x.GetType());"
   ]
  },
  {
   "cell_type": "code",
   "execution_count": 3,
   "id": "ee0b1089",
   "metadata": {},
   "outputs": [
    {
     "name": "stdout",
     "output_type": "stream",
     "text": [
      "System.Boolean\r\n"
     ]
    }
   ],
   "source": [
    "var x = 5>1;\n",
    "Console.WriteLine(x.GetType());"
   ]
  },
  {
   "cell_type": "code",
   "execution_count": 4,
   "id": "fa802498",
   "metadata": {},
   "outputs": [
    {
     "name": "stdout",
     "output_type": "stream",
     "text": [
      "System.Char\r\n"
     ]
    }
   ],
   "source": [
    "var x = '5';\n",
    "Console.WriteLine(x.GetType());"
   ]
  },
  {
   "cell_type": "code",
   "execution_count": 5,
   "id": "f061a457",
   "metadata": {},
   "outputs": [
    {
     "name": "stdout",
     "output_type": "stream",
     "text": [
      "System.Int32\r\n"
     ]
    }
   ],
   "source": [
    "var x = 5*2;\n",
    "Console.WriteLine(x.GetType());"
   ]
  },
  {
   "cell_type": "code",
   "execution_count": 6,
   "id": "80664614",
   "metadata": {},
   "outputs": [
    {
     "name": "stdout",
     "output_type": "stream",
     "text": [
      "System.Int32\r\n"
     ]
    }
   ],
   "source": [
    "var x = '5' * 2;\n",
    "Console.WriteLine(x.GetType());"
   ]
  },
  {
   "cell_type": "code",
   "execution_count": 7,
   "id": "72835698",
   "metadata": {},
   "outputs": [
    {
     "name": "stdout",
     "output_type": "stream",
     "text": [
      "System.Int32\r\n"
     ]
    }
   ],
   "source": [
    "var x = '5' + '2';\n",
    "Console.WriteLine(x.GetType());"
   ]
  },
  {
   "cell_type": "code",
   "execution_count": 8,
   "id": "e6cfa3a3",
   "metadata": {},
   "outputs": [
    {
     "name": "stdout",
     "output_type": "stream",
     "text": [
      "System.Int32\r\n"
     ]
    }
   ],
   "source": [
    "var x = 5 / 2;\n",
    "Console.WriteLine(x.GetType());"
   ]
  },
  {
   "cell_type": "code",
   "execution_count": 9,
   "id": "1a08f7af",
   "metadata": {},
   "outputs": [
    {
     "name": "stdout",
     "output_type": "stream",
     "text": [
      "System.Int32\r\n"
     ]
    }
   ],
   "source": [
    "var x = 5 % 2;\n",
    "Console.WriteLine(x.GetType());"
   ]
  },
  {
   "cell_type": "code",
   "execution_count": 12,
   "id": "be111822",
   "metadata": {},
   "outputs": [
    {
     "name": "stdout",
     "output_type": "stream",
     "text": [
      "System.Int32[]\r\n"
     ]
    }
   ],
   "source": [
    "int[] array ={5,2,1};\n",
    "Console.WriteLine(array.GetType());"
   ]
  },
  {
   "cell_type": "code",
   "execution_count": 11,
   "id": "f73c44fb",
   "metadata": {},
   "outputs": [
    {
     "name": "stdout",
     "output_type": "stream",
     "text": [
      "System.Boolean\r\n"
     ]
    }
   ],
   "source": [
    "var x = 5 == 3;\n",
    "Console.WriteLine(x.GetType());\n"
   ]
  },
  {
   "cell_type": "code",
   "execution_count": 12,
   "id": "e9147b97",
   "metadata": {},
   "outputs": [
    {
     "name": "stdout",
     "output_type": "stream",
     "text": [
      "System.Double\r\n"
     ]
    }
   ],
   "source": [
    "Console.WriteLine(Math.PI.GetType());"
   ]
  },
  {
   "cell_type": "markdown",
   "id": "b17b3dce",
   "metadata": {},
   "source": [
    "Question 2\n",
    "\n",
    "Write (and evaluate) C# expressions that answer these questions:\n",
    "a. How many letters are there in 'Supercalifragilisticexpialidocious'?"
   ]
  },
  {
   "cell_type": "code",
   "execution_count": 13,
   "id": "e0a33724",
   "metadata": {},
   "outputs": [
    {
     "name": "stdout",
     "output_type": "stream",
     "text": [
      "34\r\n"
     ]
    }
   ],
   "source": [
    "string str = \"Supercalifragilisticexpialidocious\";\n",
    "Console.WriteLine(str.Length);"
   ]
  },
  {
   "cell_type": "markdown",
   "id": "056a391f",
   "metadata": {},
   "source": [
    "b. Does 'Supercalifragilisticexpialidocious' contain 'ice' as a substring? "
   ]
  },
  {
   "cell_type": "code",
   "execution_count": 14,
   "id": "96ff9eb3",
   "metadata": {},
   "outputs": [
    {
     "name": "stdout",
     "output_type": "stream",
     "text": [
      "True\r\n"
     ]
    }
   ],
   "source": [
    "string str = \"Supercalifragilisticexpialidocious\";\n",
    "Console.WriteLine(str.Contains(\"ice\"));"
   ]
  },
  {
   "cell_type": "markdown",
   "id": "42455842",
   "metadata": {},
   "source": [
    "Which of the following words is the longest:\n",
    "Supercalifragilisticexpialidocious, Honorificabilitudinitatibus, or\n",
    "Bababadalgharaghtakamminarronnkonn? "
   ]
  },
  {
   "cell_type": "code",
   "execution_count": 8,
   "id": "d24ce57e",
   "metadata": {},
   "outputs": [
    {
     "name": "stdout",
     "output_type": "stream",
     "text": [
      "Longest Words are Supercalifragilisticexpialidocious Bababadalgharaghtakamminarronnkonn\r\n"
     ]
    }
   ],
   "source": [
    "string[] str1;\n",
    "str1 = new string[]{\"Supercalifragilisticexpialidocious\", \"Honorificabilitudinitatibus\", \"Bababadalgharaghtakamminarronnkonn\"};\n",
    "string longWord = \"\";\n",
    "string longWord2 = \"\";\n",
    "foreach (string str in str1)\n",
    "{\n",
    "    if(str.Length > longWord.Length)\n",
    "        {\n",
    "            longWord = str;\n",
    "        }\n",
    "    if (str.Length == longWord.Length)\n",
    "    {\n",
    "        longWord2 = str;\n",
    "    }\n",
    "}\n",
    "if(longWord2 !=\"\")\n",
    "{\n",
    "   Console.WriteLine(\"Longest Words are \"+longWord +\" \"+longWord2); \n",
    "}\n",
    "else \n",
    "{\n",
    "    Console.WriteLine(\"Longest Word is \"+longWord2);\n",
    "}"
   ]
  },
  {
   "cell_type": "markdown",
   "id": "2f531237",
   "metadata": {},
   "source": [
    "Which composer comes first in the dictionary: 'Berlioz', 'Borodin', 'Brian',\n",
    "'Bartok', 'Bellini', 'Buxtehude', 'Bernstein'. Which one comes last?"
   ]
  },
  {
   "cell_type": "code",
   "execution_count": 16,
   "id": "78591065",
   "metadata": {},
   "outputs": [
    {
     "name": "stdout",
     "output_type": "stream",
     "text": [
      "First composer is Bartok\n",
      "Last composer is Buxtehude\n"
     ]
    }
   ],
   "source": [
    "string[] str1;\n",
    "str1 = new string[]{\"Berlioz\", \"Borodin\", \"Brian\",\"Bartok\", \"Bellini\", \"Buxtehude\", \"Bernstein\"};\n",
    "Array.Sort(str1);\n",
    "Console.WriteLine(\"First composer is \"+str1[0]);\n",
    "Console.WriteLine(\"Last composer is \"+str1[str1.Length-1]);"
   ]
  },
  {
   "cell_type": "markdown",
   "id": "a6878957",
   "metadata": {},
   "source": [
    "Question 3 C#\n",
    "\n",
    "Implement function triangleArea(a,b,c) that takes as input the lengths of the 3\n",
    "sides of a triangle and returns the area of the triangle. By Heron's formula, the area\n",
    "of a triangle with side lengths a, b, and c is\n",
    "s(s - a)(s -b)(s -c)\n",
    ", where\n",
    "s = (a+b+c)/2."
   ]
  },
  {
   "cell_type": "code",
   "execution_count": 9,
   "id": "e40efde2",
   "metadata": {},
   "outputs": [
    {
     "data": {
      "text/plain": [
       "1.7320508075688772"
      ]
     },
     "execution_count": 9,
     "metadata": {},
     "output_type": "execute_result"
    }
   ],
   "source": [
    "public double triangleArea(double a,double b,double c)\n",
    "{\n",
    "    //double res=0.0;\n",
    "    double s = ((a+b+c)/2);\n",
    "    return Math.Sqrt(s*(s-a)*(s-b)*(s-c));\n",
    "}\n",
    "triangleArea(2,2,2)"
   ]
  },
  {
   "cell_type": "markdown",
   "id": "291879bf",
   "metadata": {},
   "source": [
    "Write a program in C# Sharp to separate odd and even integers in separate arrays.\n",
    "Go to the editor\n",
    "Test Data :\n",
    "Input the number of elements to be stored in the array :5\n",
    "Input 5 elements in the array :\n",
    "element - 0 : 25\n",
    "element - 1 : 47\n",
    "element - 2 : 42\n",
    "element - 3 : 56\n",
    "element - 4 : 32\n",
    "Expected Output:\n",
    "The Even elements are:\n",
    "42 56 32\n",
    "The Odd elements are :\n",
    "25 47\n",
    "\n",
    "***code for user input will be ***\n",
    "\n",
    "Console.Write(\"Input the number of elements to be stored in the array: \");\n",
    "int n = int.Parse(Console.ReadLine());\n",
    "int[] inputArray = new int[n];\n",
    "int[] evenArray = new int[n];\n",
    "int[] oddArray = new int[n];\n",
    "Console.WriteLine(\"Input {0} elements in the array:\", n);\n",
    "for (int i = 0; i < n; i++)\n",
    "{\n",
    "    Console.Write(\"element - {0} : \", i);\n",
    "    inputArray[i] = int.Parse(Console.ReadLine());\n",
    "}\n",
    "int evenCount = 0;\n",
    "int oddCount = 0;\n",
    "foreach (int num in inputArray)\n",
    "{\n",
    "    if (num % 2 == 0)\n",
    "    {\n",
    "        evenArray[evenCount] = num;\n",
    "        evenCount++;\n",
    "    }\n",
    "    else\n",
    "    {\n",
    "        oddArray[oddCount] = num;\n",
    "        oddCount++;\n",
    "    }\n",
    "}\n",
    "Console.WriteLine(\"The Even elements are:\");\n",
    "for (int i = 0; i < evenCount; i++)\n",
    "{\n",
    "    Console.Write(evenArray[i] + \" \");\n",
    "}\n",
    "Console.WriteLine();\n",
    "Console.WriteLine(\"The Odd elements are:\");\n",
    "for (int i = 0; i < oddCount; i++)\n",
    "{\n",
    "    Console.Write(oddArray[i] + \" \");\n",
    "}\n",
    "Console.WriteLine();"
   ]
  },
  {
   "cell_type": "code",
   "execution_count": 11,
   "id": "c6f37fd2",
   "metadata": {},
   "outputs": [
    {
     "name": "stdout",
     "output_type": "stream",
     "text": [
      "Even Numbers:\n",
      "42\n",
      "56\n",
      "32\n",
      "\n",
      "Odd Numbers:\n",
      "25\n",
      "47\n"
     ]
    }
   ],
   "source": [
    "int[] numbers = new int[]{25,47,42,56,32};\n",
    "//int p = Console.Read();\n",
    "int[] even = new int[numbers.Length];\n",
    "int[] odd = new int[numbers.Length];\n",
    "int evenCount = 0;\n",
    "int oddCount = 0;\n",
    "foreach (int i in numbers)\n",
    "{\n",
    "    if (i % 2 == 0)\n",
    "    {\n",
    "        even[evenCount] = i;\n",
    "        evenCount++;\n",
    "    }\n",
    "    else\n",
    "    {\n",
    "        odd[oddCount] = i;\n",
    "        oddCount++;\n",
    "    }\n",
    "}\n",
    "Console.WriteLine(\"Even Numbers:\");\n",
    "for (int i = 0; i < evenCount; i++)\n",
    "    {\n",
    "        Console.WriteLine(even[i]);\n",
    "    }\n",
    "Console.WriteLine(\"\\nOdd Numbers:\");\n",
    "for (int i = 0; i < oddCount; i++)\n",
    "    {\n",
    "        Console.WriteLine(odd[i]);\n",
    "    }\n"
   ]
  },
  {
   "cell_type": "markdown",
   "id": "7c8c6456",
   "metadata": {},
   "source": [
    "Write a function inside(x,y,x1,y1,x2,y2) that returns True or False\n",
    "depending on whether the point (x,y) lies in the rectangle with lower left\n",
    "corner (x1,y1) and upper right corner (x2,y2)."
   ]
  },
  {
   "cell_type": "code",
   "execution_count": 21,
   "id": "c2b9e9ad",
   "metadata": {},
   "outputs": [
    {
     "name": "stdout",
     "output_type": "stream",
     "text": [
      "True\n",
      "False\n"
     ]
    }
   ],
   "source": [
    "public Boolean inside(double x,double y, double x1, double y1, double x2, double y2)\n",
    "{\n",
    "    if((x > x1 && x < x2) && (y > y1 && y < y2))\n",
    "        return true;\n",
    "    return false;\n",
    "}\n",
    "Console.WriteLine(inside(1,1,0,0,2,3));\n",
    "Console.WriteLine(inside(-1,-1,0,0,2,3));\n"
   ]
  },
  {
   "cell_type": "code",
   "execution_count": 22,
   "id": "9b11b781",
   "metadata": {},
   "outputs": [
    {
     "name": "stdout",
     "output_type": "stream",
     "text": [
      "False\n",
      "True\n"
     ]
    }
   ],
   "source": [
    "Console.WriteLine(inside(1,1,0.3,0.5,1.1,0.7));\n",
    "Console.WriteLine(inside(1,1,0.5,0.2,1.1,2.0));"
   ]
  },
  {
   "cell_type": "code",
   "execution_count": null,
   "id": "5d182ccc",
   "metadata": {},
   "outputs": [],
   "source": []
  },
  {
   "cell_type": "code",
   "execution_count": null,
   "id": "ac36cc9f",
   "metadata": {},
   "outputs": [],
   "source": []
  }
 ],
 "metadata": {
  "kernelspec": {
   "display_name": ".NET (C#)",
   "language": "C#",
   "name": ".net-csharp"
  },
  "language_info": {
   "file_extension": ".cs",
   "mimetype": "text/x-csharp",
   "name": "C#",
   "pygments_lexer": "csharp",
   "version": "8.0"
  }
 },
 "nbformat": 4,
 "nbformat_minor": 5
}
